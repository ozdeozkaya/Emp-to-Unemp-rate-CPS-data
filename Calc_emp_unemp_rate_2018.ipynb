{
 "cells": [
  {
   "cell_type": "code",
   "execution_count": 1,
   "metadata": {},
   "outputs": [],
   "source": [
    "import pandas as pd  # pandas 0.22\n",
    "import numpy as np\n",
    "import re\n",
    "import matplotlib.pyplot as plt"
   ]
  },
  {
   "cell_type": "markdown",
   "metadata": {},
   "source": [
    "## 1-) Extract CPS data.\n",
    "\n",
    "The extraction code is based on code provided by Brian Dew. See: https://www.bd-econ.com/cps.html for details.\n",
    "I introduce a for loop to convert raw datasets for each month into pandas dataframe at once. I use CPS data from 2018."
   ]
  },
  {
   "cell_type": "code",
   "execution_count": 2,
   "metadata": {},
   "outputs": [],
   "source": [
    "dd_file = 'jan07dd.txt'\n",
    "dd_full = open(dd_file, 'r', encoding='iso-8859-1').read()\n",
    "\n",
    "# Variables that we are interested in:\n",
    "series = ['HRHHID','HRHHID2','HRMONTH','PEAGE','PUERNH1C','PRWKSTAT','PEMLR',\n",
    "         'PEIO1COW','PEIO2COW','PEABSRSN','HRMIS','PULINENO',]\n",
    "\n",
    "p = re.compile('\\n(\\w+)\\s+(\\d+)\\s+(.*?)\\s+\\((\\d\\d*).*?(\\d\\d+)\\)')\n",
    "\n",
    "dd_sel_var = [(i[0], int(i[3])-1, int(i[4])) \n",
    "              for i in p.findall(dd_full) if i[0] in series]"
   ]
  },
  {
   "cell_type": "code",
   "execution_count": 3,
   "metadata": {},
   "outputs": [],
   "source": [
    "set_month=['dec17pub','jan18pub','feb18pub','mar18pub','apr18pub',\n",
    "           'may18pub','jun18pub','jul18pub','aug18pub',\n",
    "           'sep18pub','oct18pub','nov18pub','dec18pub']\n",
    "\n",
    "set_df=[] \n",
    "for i in set_month:\n",
    "    data = [tuple(int(line[i[1]:i[2]]) for i in dd_sel_var) \n",
    "            for line in open('CPS_datasets/%s.dat' % i, 'rb')]\n",
    "    \n",
    "    globals()['%s' % i] = pd.DataFrame(data, columns=[v[0] for v in dd_sel_var])\n",
    "    set_df.append(globals()['%s' % i])\n",
    "\n",
    "#set_df is the list of CPS datasets.\n",
    "    "
   ]
  },
  {
   "cell_type": "markdown",
   "metadata": {},
   "source": [
    "## Tracking households across different files.\n",
    "\n",
    "In below code, I write a function which tracks people who went to state of employment to unemployment in a month.\n",
    "\n",
    "The method can be described as follows:\n",
    "\n",
    "Suppose we consider month M and want to estimate the EU rate between M and M+1. df1 is the basic CPS dataset of month M and df1 is the dataset of M+1. Given that households with survey months of 4 and 8 will not be in the next month's CPS, we exclude them from df1. Similarly, households with survey months of 1 and 5 in M+1 are either entering the sample for the first time or returnin; hence, they are excluded as they will not be in M. \n",
    "We also impose age and labor force restrictions.\n",
    "\n",
    "I do not consider self-employed people when considering rates from employment to unemployment. To that regard, I create three dummies: people employed, self-employed and unemployed in df1. A person whose first and/or second jobs are self-employed will be considered as self-employed. \n",
    "\n",
    "\n"
   ]
  },
  {
   "cell_type": "code",
   "execution_count": 4,
   "metadata": {},
   "outputs": [],
   "source": [
    "def new_list(set_df):\n",
    "    \"\"\"\n",
    "    Input:\n",
    "        set_df is the vector of names of the basic montly CPS datasets.\n",
    "    returns:\n",
    "        A vector of employment to unemployment rate for each month (i.e. each CPS month)\n",
    "    \"\"\"\n",
    "    EU_list=[]\n",
    "    for i in range(1,len(set_df)):\n",
    "\n",
    "        df1=set_df[i-1][(set_df[i-1]['HRMIS']!=4)& (set_df[i-1]['HRMIS']!=8)]\n",
    "        df2=set_df[i][(set_df[i]['HRMIS']!=1)& (set_df[i]['HRMIS']!=5)]\n",
    "        #We limit the data to include individuals who are active in labor force: PEMLR is between 0 and 5.\n",
    "        #We limit the data to include individuals aged between 18 and 75.\n",
    "        df1=df1[(df1['PEAGE']<75) & (df1['PEAGE']>18) & (df1['PEMLR']<5) & (df1['PEMLR']>0) ]\n",
    "        \n",
    "        #Dummy variables for employment status for month M\n",
    "        df1['self-employed']=np.where(((df1['PEIO1COW']==7) | (df1['PEIO1COW']==6) \n",
    "                                        | (df1['PEIO2COW']==7) | (df1['PEIO2COW']==6)) &\n",
    "                                        ((df1['PEMLR']==1) | (df1['PEMLR']==2)),1,0)\n",
    "        \n",
    "        df1['employed']=np.where(((df1['PEMLR']==1) | (df1['PEMLR']==2)) & (df1['self-employed']==0),1,0)\n",
    "        df1['unemployed']=np.where((df1['PEMLR']==3) | (df1['PEMLR']==4),1,0)\n",
    "        \n",
    "        #Dummy variables for employment status for month M +1\n",
    "        df2['self-employed']=np.where(((df2['PEIO1COW']==7) | (df2['PEIO1COW']==6) \n",
    "                                        | (df2['PEIO2COW']==7) | (df2['PEIO2COW']==6)) &\n",
    "                                        ((df2['PEMLR']==1) | (df2['PEMLR']==2)),1,0)\n",
    "        \n",
    "        df2['employed']=np.where(((df2['PEMLR']==1) | (df2['PEMLR']==2)) & (df2['self-employed']==0),1,0)\n",
    "        df2['unemployed']=np.where(((df2['PEMLR']==3) | (df2['PEMLR']==4)),1,0)\n",
    "        \n",
    "        #Create a new variable that takes value of 1 if a person is employed, 2 if unemployed and 3 if self-employed \n",
    "        conditions = [(df2['employed'] == 1),\n",
    "                      (df2['unemployed'] == 1),(df2['self-employed'] == 1)]\n",
    "\n",
    "        choices = [1,2,3]\n",
    "\n",
    "        df2['labor_status']=np.select(conditions, choices, default='NA')\n",
    "        #Merge employed people in month M with the second data\n",
    "        #While merging take keys of household identifiers and person's line number (w/i household)\n",
    "        df_merge=pd.merge(df1[(df1['employed']==1)], df2, on=['HRHHID','HRHHID2','HRHHID','PULINENO'])\n",
    "        #Count rows where employed people in M are unemployed in M+1 and take the ratio.\n",
    "        emp_to_unemp=df_merge[df_merge['labor_status']=='2'].shape[0]\n",
    "        x=emp_to_unemp/df_merge.shape[0]\n",
    "        EU_list.append(x)\n",
    "    return(EU_list)\n",
    "\n",
    "\n",
    "\n",
    "\n"
   ]
  },
  {
   "cell_type": "code",
   "execution_count": 5,
   "metadata": {
    "scrolled": false
   },
   "outputs": [],
   "source": [
    "pd.options.mode.chained_assignment = None\n",
    "EU_list=new_list(set_df)"
   ]
  },
  {
   "cell_type": "code",
   "execution_count": 6,
   "metadata": {},
   "outputs": [
    {
     "data": {
      "image/png": "[encoded data removed]",
      "text/plain": [
       "<Figure size 432x288 with 1 Axes>"
      ]
     },
     "metadata": {
      "needs_background": "light"
     },
     "output_type": "display_data"
    }
   ],
   "source": [
    "plt.plot(list(range(1,13)),EU_list,'p--')\n",
    "plt.axis([1, 12,0,0.03])\n",
    "plt.xlabel(\"Month\")\n",
    "plt.ylabel(\"EU_rate\")\n",
    "plt.title(\"Montly Employment to Unemployment Rate\")\n",
    "plt.show()"
   ]
  },
  {
   "cell_type": "code",
   "execution_count": 7,
   "metadata": {},
   "outputs": [
    {
     "name": "stdout",
     "output_type": "stream",
     "text": [
      "The average rate from employment to unemployment is 0.0088\n"
     ]
    }
   ],
   "source": [
    "mean_=np.mean(EU_list)\n",
    "print(f\"The average rate from employment to unemployment is {round(mean_,4)}\")"
   ]
  },
  {
   "cell_type": "code",
   "execution_count": null,
   "metadata": {},
   "outputs": [],
   "source": []
  }
 ],
 "metadata": {
  "kernelspec": {
   "display_name": "Python 3",
   "language": "python",
   "name": "python3"
  },
  "language_info": {
   "codemirror_mode": {
    "name": "ipython",
    "version": 3
   },
   "file_extension": ".py",
   "mimetype": "text/x-python",
   "name": "python",
   "nbconvert_exporter": "python",
   "pygments_lexer": "ipython3",
   "version": "3.8.3"
  }
 },
 "nbformat": 4,
 "nbformat_minor": 4
}
